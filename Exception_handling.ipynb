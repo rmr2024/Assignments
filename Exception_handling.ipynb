{
  "nbformat": 4,
  "nbformat_minor": 0,
  "metadata": {
    "colab": {
      "provenance": []
    },
    "kernelspec": {
      "name": "python3",
      "display_name": "Python 3"
    },
    "language_info": {
      "name": "python"
    }
  },
  "cells": [
    {
      "cell_type": "code",
      "execution_count": 2,
      "metadata": {
        "colab": {
          "base_uri": "https://localhost:8080/",
          "height": 211
        },
        "id": "GWTbUvAlWCRt",
        "outputId": "0bf3e4c4-8435-4b51-a3f4-9043bf50ac08"
      },
      "outputs": [
        {
          "output_type": "stream",
          "name": "stdout",
          "text": [
            "10\n",
            "1.0\n"
          ]
        },
        {
          "output_type": "error",
          "ename": "ZeroDivisionError",
          "evalue": "division by zero",
          "traceback": [
            "\u001b[0;31m---------------------------------------------------------------------------\u001b[0m",
            "\u001b[0;31mZeroDivisionError\u001b[0m                         Traceback (most recent call last)",
            "\u001b[0;32m<ipython-input-2-4191dc98335e>\u001b[0m in \u001b[0;36m<cell line: 0>\u001b[0;34m()\u001b[0m\n\u001b[1;32m      1\u001b[0m \u001b[0mprint\u001b[0m\u001b[0;34m(\u001b[0m\u001b[0;36m5\u001b[0m\u001b[0;34m+\u001b[0m\u001b[0;36m5\u001b[0m\u001b[0;34m)\u001b[0m\u001b[0;34m\u001b[0m\u001b[0;34m\u001b[0m\u001b[0m\n\u001b[1;32m      2\u001b[0m \u001b[0mprint\u001b[0m\u001b[0;34m(\u001b[0m\u001b[0;36m5\u001b[0m\u001b[0;34m/\u001b[0m\u001b[0;36m5\u001b[0m\u001b[0;34m)\u001b[0m\u001b[0;34m\u001b[0m\u001b[0;34m\u001b[0m\u001b[0m\n\u001b[0;32m----> 3\u001b[0;31m \u001b[0mprint\u001b[0m\u001b[0;34m(\u001b[0m\u001b[0;36m5\u001b[0m\u001b[0;34m/\u001b[0m\u001b[0;36m0\u001b[0m\u001b[0;34m)\u001b[0m\u001b[0;34m\u001b[0m\u001b[0;34m\u001b[0m\u001b[0m\n\u001b[0m",
            "\u001b[0;31mZeroDivisionError\u001b[0m: division by zero"
          ]
        }
      ],
      "source": [
        "print(5+5)\n",
        "print(5/5)\n",
        "print(5/0)"
      ]
    },
    {
      "cell_type": "code",
      "source": [
        "a=10\n",
        "b=int(input(\"enter a number\"))\n",
        "try:\n",
        "  print(a/b)\n",
        "except:\n",
        "  print('Zero division error')"
      ],
      "metadata": {
        "colab": {
          "base_uri": "https://localhost:8080/"
        },
        "id": "nHe-EyMgWMNJ",
        "outputId": "b4dd7774-7760-44c7-9ef9-ccb6c4532102"
      },
      "execution_count": 4,
      "outputs": [
        {
          "output_type": "stream",
          "name": "stdout",
          "text": [
            "enter a number0\n",
            "Zero division error\n"
          ]
        }
      ]
    },
    {
      "cell_type": "code",
      "source": [
        "numerator=float(input(\"Enter the numerator\"))\n",
        "denominator=float(input(\"Enter the denominator\"))\n",
        "if denominator==0:\n",
        "  raise ZeroDivisionError('Denominator cannot be zero')\n",
        "else:\n",
        "  print(numerator/denominator)"
      ],
      "metadata": {
        "colab": {
          "base_uri": "https://localhost:8080/",
          "height": 245
        },
        "id": "_ZzCn-dKYOs-",
        "outputId": "56bed9f3-cd01-4d15-f115-f2710a51dff8"
      },
      "execution_count": 6,
      "outputs": [
        {
          "name": "stdout",
          "output_type": "stream",
          "text": [
            "Enter the numerator13\n",
            "Enter the denominator0\n"
          ]
        },
        {
          "output_type": "error",
          "ename": "ZeroDivisionError",
          "evalue": "Denominator cannot be zero",
          "traceback": [
            "\u001b[0;31m---------------------------------------------------------------------------\u001b[0m",
            "\u001b[0;31mZeroDivisionError\u001b[0m                         Traceback (most recent call last)",
            "\u001b[0;32m<ipython-input-6-ad066fe7d8e2>\u001b[0m in \u001b[0;36m<cell line: 0>\u001b[0;34m()\u001b[0m\n\u001b[1;32m      2\u001b[0m \u001b[0mdenominator\u001b[0m\u001b[0;34m=\u001b[0m\u001b[0mfloat\u001b[0m\u001b[0;34m(\u001b[0m\u001b[0minput\u001b[0m\u001b[0;34m(\u001b[0m\u001b[0;34m\"Enter the denominator\"\u001b[0m\u001b[0;34m)\u001b[0m\u001b[0;34m)\u001b[0m\u001b[0;34m\u001b[0m\u001b[0;34m\u001b[0m\u001b[0m\n\u001b[1;32m      3\u001b[0m \u001b[0;32mif\u001b[0m \u001b[0mdenominator\u001b[0m\u001b[0;34m==\u001b[0m\u001b[0;36m0\u001b[0m\u001b[0;34m:\u001b[0m\u001b[0;34m\u001b[0m\u001b[0;34m\u001b[0m\u001b[0m\n\u001b[0;32m----> 4\u001b[0;31m   \u001b[0;32mraise\u001b[0m \u001b[0mZeroDivisionError\u001b[0m\u001b[0;34m(\u001b[0m\u001b[0;34m'Denominator cannot be zero'\u001b[0m\u001b[0;34m)\u001b[0m\u001b[0;34m\u001b[0m\u001b[0;34m\u001b[0m\u001b[0m\n\u001b[0m\u001b[1;32m      5\u001b[0m \u001b[0;32melse\u001b[0m\u001b[0;34m:\u001b[0m\u001b[0;34m\u001b[0m\u001b[0;34m\u001b[0m\u001b[0m\n\u001b[1;32m      6\u001b[0m   \u001b[0mprint\u001b[0m\u001b[0;34m(\u001b[0m\u001b[0mnumerator\u001b[0m\u001b[0;34m/\u001b[0m\u001b[0mdenominator\u001b[0m\u001b[0;34m)\u001b[0m\u001b[0;34m\u001b[0m\u001b[0;34m\u001b[0m\u001b[0m\n",
            "\u001b[0;31mZeroDivisionError\u001b[0m: Denominator cannot be zero"
          ]
        }
      ]
    },
    {
      "cell_type": "markdown",
      "source": [
        "Find the difference between the terms:\n",
        "1. Exception handling\n",
        "2. Throwing and exception\n",
        "3. Catching an exception"
      ],
      "metadata": {
        "id": "c4mSdMcTYpgx"
      }
    },
    {
      "cell_type": "code",
      "source": [
        "print('--------------')\n",
        "print('|','X','|','Y','|','OR','|')\n",
        "print('--------------')\n",
        "for i in range(0,2):\n",
        "  for j in range(0,2):\n",
        "    print('|',i,'|',j,'|',i or j,' |')\n",
        "    print('--------------')"
      ],
      "metadata": {
        "colab": {
          "base_uri": "https://localhost:8080/"
        },
        "id": "QTdhWc8GariF",
        "outputId": "9ede11ba-ba78-4f13-a6c8-243c22cacef7"
      },
      "execution_count": 26,
      "outputs": [
        {
          "output_type": "stream",
          "name": "stdout",
          "text": [
            "--------------\n",
            "| X | Y | OR |\n",
            "--------------\n",
            "| 0 | 0 | 0  |\n",
            "--------------\n",
            "| 0 | 1 | 1  |\n",
            "--------------\n",
            "| 1 | 0 | 1  |\n",
            "--------------\n",
            "| 1 | 1 | 1  |\n",
            "--------------\n"
          ]
        }
      ]
    },
    {
      "cell_type": "code",
      "source": [
        "print('---------------')\n",
        "print('|','X','|','Y','|','AND','|')\n",
        "print('---------------')\n",
        "for i in range(0,2):\n",
        "  for j in range(0,2):\n",
        "    print('|',i,'|',j,'|',i and j,'  |')\n",
        "    print('---------------')"
      ],
      "metadata": {
        "colab": {
          "base_uri": "https://localhost:8080/"
        },
        "id": "hfqIGeJAc3Ko",
        "outputId": "b6ab610f-3b3f-4b78-a215-0cdf4eda0b7d"
      },
      "execution_count": 30,
      "outputs": [
        {
          "output_type": "stream",
          "name": "stdout",
          "text": [
            "---------------\n",
            "| X | Y | AND |\n",
            "---------------\n",
            "| 0 | 0 | 0   |\n",
            "---------------\n",
            "| 0 | 1 | 0   |\n",
            "---------------\n",
            "| 1 | 0 | 0   |\n",
            "---------------\n",
            "| 1 | 1 | 1   |\n",
            "---------------\n"
          ]
        }
      ]
    },
    {
      "cell_type": "code",
      "source": [
        "print('---------------')\n",
        "print('|','X','|','Y','|','NOT','|')\n",
        "print('---------------')\n",
        "for i in range(0,2):\n",
        "  for j in range(0,2):\n",
        "    print('|',i,'|',j,'|',int(not i),'  |')\n",
        "    print('---------------')"
      ],
      "metadata": {
        "colab": {
          "base_uri": "https://localhost:8080/"
        },
        "id": "KdtBxwFxdHEg",
        "outputId": "3b9ce4a3-5098-4dda-e86e-7d854ed3d72f"
      },
      "execution_count": 37,
      "outputs": [
        {
          "output_type": "stream",
          "name": "stdout",
          "text": [
            "---------------\n",
            "| X | Y | NOT |\n",
            "---------------\n",
            "| 0 | 0 | 1   |\n",
            "---------------\n",
            "| 0 | 1 | 1   |\n",
            "---------------\n",
            "| 1 | 0 | 0   |\n",
            "---------------\n",
            "| 1 | 1 | 0   |\n",
            "---------------\n"
          ]
        }
      ]
    },
    {
      "cell_type": "code",
      "source": [
        "print('|','X','|','Y','|','Z','|','X OR(Y AND Z)','|')\n",
        "for i in range(0,2):\n",
        "  for j in range(0,2):\n",
        "    for k in range(0,2):\n",
        "      d=j and k\n",
        "      e=i or d\n",
        "      print('|',i,'|',j,'|',k,'|',e,'            |')"
      ],
      "metadata": {
        "colab": {
          "base_uri": "https://localhost:8080/"
        },
        "id": "xq_OEPS8dSEo",
        "outputId": "5c216e23-4fbe-411b-e55d-a21660b31aa7"
      },
      "execution_count": 43,
      "outputs": [
        {
          "output_type": "stream",
          "name": "stdout",
          "text": [
            "| X | Y | Z | X OR(Y AND Z) |\n",
            "| 0 | 0 | 0 | 0             |\n",
            "| 0 | 0 | 1 | 0             |\n",
            "| 0 | 1 | 0 | 0             |\n",
            "| 0 | 1 | 1 | 1             |\n",
            "| 1 | 0 | 0 | 1             |\n",
            "| 1 | 0 | 1 | 1             |\n",
            "| 1 | 1 | 0 | 1             |\n",
            "| 1 | 1 | 1 | 1             |\n"
          ]
        }
      ]
    },
    {
      "cell_type": "code",
      "source": [
        "print('|','X','|','Y','|','OR','|')\n",
        "for i in range(0,2):\n",
        "  for j in range(0,2):\n",
        "    print('|',i,'|',j,'|',i ^ j,' |')"
      ],
      "metadata": {
        "colab": {
          "base_uri": "https://localhost:8080/"
        },
        "id": "N5YOclU2fEpv",
        "outputId": "db32a788-cff5-45c4-9f26-d6e4745982db"
      },
      "execution_count": 44,
      "outputs": [
        {
          "output_type": "stream",
          "name": "stdout",
          "text": [
            "| X | Y | OR |\n",
            "| 0 | 0 | 0  |\n",
            "| 0 | 1 | 1  |\n",
            "| 1 | 0 | 1  |\n",
            "| 1 | 1 | 0  |\n"
          ]
        }
      ]
    },
    {
      "cell_type": "code",
      "source": [],
      "metadata": {
        "id": "U5AjIGkdgEPg"
      },
      "execution_count": null,
      "outputs": []
    }
  ]
}