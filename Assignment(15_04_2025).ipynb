{
  "nbformat": 4,
  "nbformat_minor": 0,
  "metadata": {
    "colab": {
      "provenance": []
    },
    "kernelspec": {
      "name": "python3",
      "display_name": "Python 3"
    },
    "language_info": {
      "name": "python"
    }
  },
  "cells": [
    {
      "cell_type": "code",
      "execution_count": 2,
      "metadata": {
        "colab": {
          "base_uri": "https://localhost:8080/"
        },
        "id": "I2gkccE08H-5",
        "outputId": "31aec744-2723-40dd-d202-2cc7e93d99a3"
      },
      "outputs": [
        {
          "output_type": "stream",
          "name": "stdout",
          "text": [
            "Enter number2123\n",
            "The last number is:  3\n"
          ]
        }
      ],
      "source": [
        "#last digit of a number\n",
        "n=int(input(\"Enter number\"))\n",
        "print(\"The last number is: \",n%10)"
      ]
    },
    {
      "cell_type": "code",
      "source": [
        "#last num even or odd\n",
        "n=int(input(\"Enter number\"))\n",
        "if(n%10%2==0):\n",
        "    print(\"Even\")\n",
        "else:\n",
        "    print(\"Odd\")"
      ],
      "metadata": {
        "colab": {
          "base_uri": "https://localhost:8080/"
        },
        "id": "nqb87Esp8Y2K",
        "outputId": "a74a308f-c120-46bd-9403-1f54b5dd7885"
      },
      "execution_count": 3,
      "outputs": [
        {
          "output_type": "stream",
          "name": "stdout",
          "text": [
            "Enter number23456\n",
            "Even\n"
          ]
        }
      ]
    },
    {
      "cell_type": "code",
      "source": [
        "#vote eligibility\n",
        "age=int(input(\"Enter age\"))\n",
        "if(age>=18):\n",
        "    print(\"Eligible\")\n",
        "else:\n",
        "    print(\"Not Eligible\")"
      ],
      "metadata": {
        "colab": {
          "base_uri": "https://localhost:8080/"
        },
        "id": "n6xW3AN08lQ-",
        "outputId": "5efb36cc-6ac1-4d57-b4e6-00b06894161f"
      },
      "execution_count": 4,
      "outputs": [
        {
          "output_type": "stream",
          "name": "stdout",
          "text": [
            "Enter age23\n",
            "Eligible\n"
          ]
        }
      ]
    },
    {
      "cell_type": "code",
      "source": [
        "#display grades\n",
        "s1=int(input(\"Enter marks\"))\n",
        "s2=int(input(\"Enter marks\"))\n",
        "s3=int(input(\"Enter marks\"))\n",
        "per=(s1+s2+s3)/3\n",
        "if(per>=90):\n",
        "    print(\"Grade A\")\n",
        "elif(per>=80):\n",
        "    print(\"Grade B\")\n",
        "elif(per>=70):\n",
        "    print(\"Grade C\")\n",
        "elif(per>=60):\n",
        "    print(\"Grade D\")\n",
        "else:\n",
        "    print(\"Fail\")"
      ],
      "metadata": {
        "colab": {
          "base_uri": "https://localhost:8080/"
        },
        "id": "1ytBivGg8wxq",
        "outputId": "6a41bbe6-1d37-485b-f410-0e3e3169dcba"
      },
      "execution_count": 5,
      "outputs": [
        {
          "output_type": "stream",
          "name": "stdout",
          "text": [
            "Enter marks12\n",
            "Enter marks23\n",
            "Enter marks100\n",
            "Fail\n"
          ]
        }
      ]
    },
    {
      "cell_type": "code",
      "source": [
        "#display week day acc to num\n",
        "n=int(input(\"Enter number\"))\n",
        "if(n==1):\n",
        "  print(\"Monday\")\n",
        "elif(n==2):\n",
        "  print(\"Tuesday\")\n",
        "elif(n==3):\n",
        "  print(\"Wednesday\")\n",
        "elif(n==4):\n",
        "  print(\"Thursday\")\n",
        "elif(n==5):\n",
        "  print(\"Friday\")\n",
        "elif(n==6):\n",
        "  print(\"Saturday\")\n",
        "elif(n==7):\n",
        "  print(\"Sunday\")\n",
        "else:\n",
        "  print(\"Invalid number\")"
      ],
      "metadata": {
        "colab": {
          "base_uri": "https://localhost:8080/"
        },
        "id": "WD-Td8Uv8-GY",
        "outputId": "426ec21e-39ca-49bb-fbd0-e776e973501f"
      },
      "execution_count": 6,
      "outputs": [
        {
          "output_type": "stream",
          "name": "stdout",
          "text": [
            "Enter number5\n",
            "Friday\n"
          ]
        }
      ]
    },
    {
      "cell_type": "code",
      "source": [
        "#3 digit num or not\n",
        "n=int(input(\"Enter number\"))\n",
        "if(n>=100 and n<=999):\n",
        "  print(\"3 digit number\")\n",
        "else:\n",
        "  print(\"Not a 3 digit number\")"
      ],
      "metadata": {
        "colab": {
          "base_uri": "https://localhost:8080/"
        },
        "id": "EhfGpTez9jZ2",
        "outputId": "50a04804-a3d0-4bf8-bed9-d42d43380209"
      },
      "execution_count": 7,
      "outputs": [
        {
          "output_type": "stream",
          "name": "stdout",
          "text": [
            "Enter number345\n",
            "3 digit number\n"
          ]
        }
      ]
    },
    {
      "cell_type": "code",
      "source": [
        "# positive or not\n",
        "n=int(input(\"Enter number\"))\n",
        "if(n>=0):\n",
        "  print(\"Positive\")\n",
        "else:\n",
        "  print(\"Negative\")"
      ],
      "metadata": {
        "colab": {
          "base_uri": "https://localhost:8080/"
        },
        "id": "2xh6k9Z79ooQ",
        "outputId": "a8b71dfa-80a2-4b1e-e661-942b1d26213a"
      },
      "execution_count": 8,
      "outputs": [
        {
          "output_type": "stream",
          "name": "stdout",
          "text": [
            "Enter number54\n",
            "Positive\n"
          ]
        }
      ]
    },
    {
      "cell_type": "code",
      "source": [
        "#divisible by 8 and 9\n",
        "n=int(input(\"Enter number\"))\n",
        "if(n%8==0 and n%9==0):\n",
        "  print(\"Divisible\")\n",
        "else:\n",
        "  print(\"Not divisible\")"
      ],
      "metadata": {
        "colab": {
          "base_uri": "https://localhost:8080/"
        },
        "id": "F5raqYEd9soJ",
        "outputId": "15ce77af-408f-4d1e-c51a-eec5ff424b22"
      },
      "execution_count": 9,
      "outputs": [
        {
          "output_type": "stream",
          "name": "stdout",
          "text": [
            "Enter number54\n",
            "Not divisible\n"
          ]
        }
      ]
    },
    {
      "cell_type": "code",
      "source": [
        "#max of 3 numbers\n",
        "a=int(input(\"Enter number\"))\n",
        "b=int(input(\"Enter number\"))\n",
        "c=int(input(\"Enter number\"))\n",
        "if(a>b and a>c):\n",
        "  print(\"a is max\")\n",
        "elif(b>a and b>c):\n",
        "  print(\"b is max\")\n",
        "else:\n",
        "  print(\"c is max\")"
      ],
      "metadata": {
        "colab": {
          "base_uri": "https://localhost:8080/"
        },
        "id": "FJEzTdus92EF",
        "outputId": "d60f4d53-7b25-4563-d437-38f3bc3aaa67"
      },
      "execution_count": 10,
      "outputs": [
        {
          "output_type": "stream",
          "name": "stdout",
          "text": [
            "Enter number54\n",
            "Enter number65\n",
            "Enter number76\n",
            "c is max\n"
          ]
        }
      ]
    },
    {
      "cell_type": "code",
      "source": [
        "#Vowels or not\n",
        "ch=input(\"Enter character: \")\n",
        "if(ch=='A' or ch=='E' or ch=='I' or ch=='O' or ch=='U' or ch=='a' or ch=='e' or ch=='i' or ch=='o' or ch=='u'):\n",
        "    print(ch,\"is a vowel\")\n",
        "else:\n",
        "  print(\"Not a vowel\")"
      ],
      "metadata": {
        "colab": {
          "base_uri": "https://localhost:8080/"
        },
        "id": "AL2OP_gZ9-Ej",
        "outputId": "d2f999f4-0597-4da2-c785-7b47dd1bb8b2"
      },
      "execution_count": 11,
      "outputs": [
        {
          "output_type": "stream",
          "name": "stdout",
          "text": [
            "Enter character: a\n",
            "a is a vowel\n"
          ]
        }
      ]
    },
    {
      "cell_type": "code",
      "source": [
        "'''print the pattern\n",
        "1\n",
        "1 2\n",
        "1 2 3\n",
        "1 2 3 4\n",
        "1 2 3 4 5'''\n",
        "for i in range(0,5):\n",
        "  for j in range(0,5):\n",
        "    if(i>=j):\n",
        "      print(j+1,end=\" \")\n",
        "  print()"
      ],
      "metadata": {
        "colab": {
          "base_uri": "https://localhost:8080/"
        },
        "id": "2ocC5xbd-MrF",
        "outputId": "b68e0834-860b-40c7-9e1c-0d4a208c9b50"
      },
      "execution_count": 15,
      "outputs": [
        {
          "output_type": "stream",
          "name": "stdout",
          "text": [
            "1 \n",
            "1 2 \n",
            "1 2 3 \n",
            "1 2 3 4 \n",
            "1 2 3 4 5 \n"
          ]
        }
      ]
    },
    {
      "cell_type": "code",
      "source": [
        "#printing sum to n\n",
        "n=int(input(\"Enter number\"))\n",
        "sum=0\n",
        "for i in range(1,n+1):\n",
        "  sum=sum+i\n",
        "print(sum)"
      ],
      "metadata": {
        "colab": {
          "base_uri": "https://localhost:8080/"
        },
        "id": "-Srt5bFP-tya",
        "outputId": "04813e6c-a64f-454a-91b0-f2186aba4aa8"
      },
      "execution_count": 16,
      "outputs": [
        {
          "output_type": "stream",
          "name": "stdout",
          "text": [
            "Enter number10\n",
            "55\n"
          ]
        }
      ]
    },
    {
      "cell_type": "code",
      "source": [
        "#div by 5,>150--> skip, >500--> break\n",
        "l=[12,75,150,180,145,525,50]\n",
        "for i in range(0,len(l)):\n",
        "  if(l[i]%5==0):\n",
        "    if(l[i]<150):\n",
        "      print(l[i])"
      ],
      "metadata": {
        "colab": {
          "base_uri": "https://localhost:8080/"
        },
        "id": "PqcD3S24_Egn",
        "outputId": "dc3d53df-eaeb-4fb6-c6f5-73243d7fdaa8"
      },
      "execution_count": 18,
      "outputs": [
        {
          "output_type": "stream",
          "name": "stdout",
          "text": [
            "75\n",
            "145\n",
            "50\n"
          ]
        }
      ]
    },
    {
      "cell_type": "code",
      "source": [
        "#count no of digits\n",
        "n=int(input(\"Enter number: \"))\n",
        "count=0\n",
        "while(n>0):\n",
        "  count=count+1\n",
        "  n=n//10\n",
        "print(\"The no of digits is: \",count)"
      ],
      "metadata": {
        "colab": {
          "base_uri": "https://localhost:8080/"
        },
        "id": "R49rCjBm_ebT",
        "outputId": "0acac9e0-ecbb-4e78-ec93-ecba1ec432db"
      },
      "execution_count": 22,
      "outputs": [
        {
          "output_type": "stream",
          "name": "stdout",
          "text": [
            "Enter number: 2354\n",
            "The no of digits is:  4\n"
          ]
        }
      ]
    },
    {
      "cell_type": "code",
      "source": [
        "#reverse using loop\n",
        "l=[10,20,30,40,50]\n",
        "for i in range(len(l)-1,-1,-1):\n",
        "  print(l[i],end=\" \")"
      ],
      "metadata": {
        "colab": {
          "base_uri": "https://localhost:8080/"
        },
        "id": "klIC8FUb_7T8",
        "outputId": "d1c30355-1a13-44ca-9645-18e2c362bdab"
      },
      "execution_count": 25,
      "outputs": [
        {
          "output_type": "stream",
          "name": "stdout",
          "text": [
            "50 40 30 20 10 "
          ]
        }
      ]
    },
    {
      "cell_type": "code",
      "source": [
        "#print from -10 to -1\n",
        "for i in range(-10,0):\n",
        "  print(i,\",\",end=\" \")"
      ],
      "metadata": {
        "colab": {
          "base_uri": "https://localhost:8080/"
        },
        "id": "etHiMJ41A390",
        "outputId": "9a0470be-a99b-4011-a396-4d97e9ee76f1"
      },
      "execution_count": 27,
      "outputs": [
        {
          "output_type": "stream",
          "name": "stdout",
          "text": [
            "-10 , -9 , -8 , -7 , -6 , -5 , -4 , -3 , -2 , -1 , "
          ]
        }
      ]
    },
    {
      "cell_type": "code",
      "source": [
        "#print primes from 1 to 100\n",
        "count =0\n",
        "for i in range(1,101):\n",
        "  for j in range(1,101):\n",
        "    if(i%j==0):\n",
        "      count=count+1\n",
        "    if count==2:\n",
        "      print(i,end=\" \")\n",
        "      count=0"
      ],
      "metadata": {
        "colab": {
          "base_uri": "https://localhost:8080/"
        },
        "id": "HLzWFUi4BVPL",
        "outputId": "00b04972-cbec-45ef-f318-0b7d1b2c6bdb"
      },
      "execution_count": 29,
      "outputs": [
        {
          "output_type": "stream",
          "name": "stdout",
          "text": [
            "2 3 4 4 5 6 6 7 8 8 9 10 10 11 12 12 12 13 14 14 15 15 16 16 16 17 18 18 18 19 20 20 20 21 21 22 22 23 24 24 24 24 25 26 26 27 27 28 28 28 29 30 30 30 30 31 32 32 32 33 33 34 34 35 35 36 36 36 36 36 37 38 38 39 39 40 40 40 40 41 42 42 42 42 43 44 44 44 45 45 45 46 46 47 48 48 48 48 48 49 50 50 50 51 51 52 52 52 53 54 54 54 54 55 55 56 56 56 56 57 57 58 58 59 60 60 60 60 60 60 61 62 62 63 63 63 64 64 64 64 65 65 66 66 66 66 67 68 68 68 69 69 70 70 70 70 71 72 72 72 72 72 72 73 74 74 75 75 75 76 76 76 77 77 78 78 78 78 79 80 80 80 80 80 81 81 82 82 83 84 84 84 84 84 84 85 85 86 86 87 87 88 88 88 88 89 90 90 90 90 90 90 91 91 92 92 92 93 93 94 94 95 95 96 96 96 96 96 96 97 98 98 98 99 99 99 100 100 100 100 100 "
          ]
        }
      ]
    },
    {
      "cell_type": "code",
      "source": [
        "#fibonacci\n",
        "def fib(x):\n",
        "  if x>1:\n",
        "    return(fib(x-1)+(x-2))\n",
        "  elif x==0:\n",
        "    return 0\n",
        "  elif x==1:\n",
        "    return 1\n",
        "for i in range(10):\n",
        "  print(fib(i),end=\" \")"
      ],
      "metadata": {
        "colab": {
          "base_uri": "https://localhost:8080/"
        },
        "id": "5am9-BIOBn_E",
        "outputId": "c50f8cd1-9ddd-4079-9df8-477c2427a90e"
      },
      "execution_count": 30,
      "outputs": [
        {
          "output_type": "stream",
          "name": "stdout",
          "text": [
            "0 1 1 2 4 7 11 16 22 29 "
          ]
        }
      ]
    },
    {
      "cell_type": "code",
      "source": [
        "#factorial\n",
        "fact=1\n",
        "n=int(input(\"Enter number\"))\n",
        "for i in range(1,n+1):\n",
        "  fact=fact*i\n",
        "print(fact)"
      ],
      "metadata": {
        "colab": {
          "base_uri": "https://localhost:8080/"
        },
        "id": "DGmV_TDqCH9C",
        "outputId": "eaa24205-f5b4-40ad-a8e1-c2df5136dd69"
      },
      "execution_count": 31,
      "outputs": [
        {
          "output_type": "stream",
          "name": "stdout",
          "text": [
            "Enter number5\n",
            "120\n"
          ]
        }
      ]
    },
    {
      "cell_type": "code",
      "source": [
        "#rev of number\n",
        "n=int(input(\"Enter n: \"))\n",
        "rem=0\n",
        "sum=0\n",
        "rev=0\n",
        "while n>0:\n",
        "  rem=n%10\n",
        "  rev=rev*10+rem\n",
        "  n=n//10\n",
        "print(rev)"
      ],
      "metadata": {
        "colab": {
          "base_uri": "https://localhost:8080/"
        },
        "id": "xJWt4YdBCXHm",
        "outputId": "75920bfa-faa7-4f6c-cf5c-f9e323cf421a"
      },
      "execution_count": 33,
      "outputs": [
        {
          "output_type": "stream",
          "name": "stdout",
          "text": [
            "Enter n: 123\n",
            "321\n"
          ]
        }
      ]
    },
    {
      "cell_type": "code",
      "source": [],
      "metadata": {
        "id": "JhB_oktPCwq-"
      },
      "execution_count": null,
      "outputs": []
    }
  ]
}